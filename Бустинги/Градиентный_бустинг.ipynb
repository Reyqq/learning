{
  "nbformat": 4,
  "nbformat_minor": 0,
  "metadata": {
    "colab": {
      "provenance": [],
      "authorship_tag": "ABX9TyMfGhzQhrBlCrs4gGrXYerw",
      "include_colab_link": true
    },
    "kernelspec": {
      "name": "python3",
      "display_name": "Python 3"
    },
    "language_info": {
      "name": "python"
    }
  },
  "cells": [
    {
      "cell_type": "markdown",
      "metadata": {
        "id": "view-in-github",
        "colab_type": "text"
      },
      "source": [
        "<a href=\"https://colab.research.google.com/github/Reyqq/learning/blob/main/%D0%91%D1%83%D1%81%D1%82%D0%B8%D0%BD%D0%B3%D0%B8/%D0%93%D1%80%D0%B0%D0%B4%D0%B8%D0%B5%D0%BD%D1%82%D0%BD%D1%8B%D0%B9_%D0%B1%D1%83%D1%81%D1%82%D0%B8%D0%BD%D0%B3.ipynb\" target=\"_parent\"><img src=\"https://colab.research.google.com/assets/colab-badge.svg\" alt=\"Open In Colab\"/></a>"
      ]
    },
    {
      "cell_type": "markdown",
      "source": [
        "# Градиентный бустинг\n",
        "\n",
        "В ходе обучения случайного леса каждый базовый алгоритм строится независимо от остальных. Бустинг, в свою очередь, воплощает идею последовательного построения линейной комбинации алгоритмов. Каждый следующий алгоритм старается уменьшить ошибку текущего ансамбля.\n",
        "\n",
        "Градиентный бустинг обучает слабые модели последовательно, исправляя ошибки предыдущих.\n",
        "\n",
        "Бустинг, использующий деревья решений в качестве базовых алгоритмов, называется **градиентным бустингом над решающими деревьями, (Gradient Boosting on Decision Trees, GBDT)**.\n",
        "\n",
        "Он отлично работает на выборках с «табличными», неоднородными данными. Пример таких данных — описание пользователя Яндекса через его возраст, пол, среднее число поисковых запросов в день, число заказов такси и так далее. Такой бустинг способен эффективно находить нелинейные зависимости в данных различной природы.\n",
        "\n",
        "Этим свойством обладают все алгоритмы, которые используют деревья решений, однако именно GBDT обычно выигрывает в подавляющем большинстве задач. Благодаря этому он широко применяется во многих конкурсах по машинному обучению и задачах из индустрии:\n",
        "\n",
        "\n",
        "Градиентный бустинг оптимизируется с помощью градиентного спуска.\n",
        "\n",
        "**Градиентный бустинг** - модель машинного обучения, решающая задачи классификации и регрессии. Она состоит из ансамбля более слабых моделей (чаще всего дерево решений) и учится последовательно на ошибках предыдущей модели.\n",
        "\n",
        "1. **Решает задачи регрессии и классификации**\n",
        " - Это значит, что модель может выбирать из нескольких заранее готовых ответов (котик на фото или пёсик - это классификация), так и угадывать какое-то число (сколько стоит квартира от млн рублей до млрд рублей - это регрессия).\n",
        "\n",
        "2. **Состоит из ансамбля более слабых моделей**\n",
        " - Внутри нее сидит не одна модель, а множество. И вместе они каким-то образом принимают решение как ответить окончательно. В случае с бустингом модели принимают решения и исправляют ответы предыдущих последовательно.\n",
        "3. **Чаще всего состоит из деревьев решений**\n",
        " - **Дерево решений** - это простой алгоритм машинного обучения. Для наглядности давайте представим, что у нас есть 4 квартиры, на основании которых мы хотим научиться оценивать стоимость квартиры. Само собой, в реальности мы бы делали модель на основании миллионов примеров стоимости квартир, но для упрощения мы возьмем 4 шутки:"
      ],
      "metadata": {
        "id": "BJSqvoW2Dlvi"
      }
    },
    {
      "cell_type": "markdown",
      "source": [
        "![webp.webp](data:image/webp;base64,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)"
      ],
      "metadata": {
        "id": "pNBu7Ee3DvAd"
      }
    },
    {
      "cell_type": "markdown",
      "source": [
        "Вот какие выводы (примерно) сделал бы наш просто алгоритм дерева решений:\n",
        "\n",
        "![webp (1).webp](data:image/webp;base64,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)"
      ],
      "metadata": {
        "id": "F8adZ9D0IzEF"
      }
    },
    {
      "cell_type": "markdown",
      "source": [
        "   4. **Учится последовательно на ошибках предыдущей модели**\n",
        "      - Это значит, что мы сначала обучаем какую-то простую модель, потом смотрим, где мы ошиблись, и обучаем новую модель поверх первой, которая исправляет изначальные значения первой модели. Так повторяется какое-то количество раз, и в итоге мы складываем значения всех итераций (при регрессии)."
      ],
      "metadata": {
        "id": "mk40nfqdI7WL"
      }
    },
    {
      "cell_type": "markdown",
      "source": [
        "# Что еще стоит знать про модели бустинга?\n",
        "\n",
        "У градиентного бустинга есть два основных гиперпараметра.\n",
        "\n",
        "**Гиперпараметр** - это то, что вы задаете модели как ограничение. С помощью них можно изменять модель, ничего не меняя в принципах ее работы. В основном тюнинг гиперпараметров используется, чтобы не дать модели переобучиться и показать хорошую предсказательную силу.\n",
        "\n",
        "У **градиентного бустинга** в качестве основных гиперпараметров есть **learning rate** и **количество шагов обучения**. Разберем каждый из них:\n",
        " - **Количество шагов обучения** - это сколько раз мы дообучаем модель на ошибках предыдущей. Чем больше выборка, тем больше шагов обучения допустимо делать.\n",
        " - **Learning rate** - это то, на сколько мы можем исправлять предсказания предыдущего алгоритма. Часто рекомендуют ставить его меньше 0.2. Чем меньше этот параметр, тем больше возможностей вы оставляете для будущих шагов для улучшения качества модели."
      ],
      "metadata": {
        "id": "HfdS6BpCJ8VL"
      }
    }
  ]
}