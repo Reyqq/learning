{
  "nbformat": 4,
  "nbformat_minor": 0,
  "metadata": {
    "colab": {
      "provenance": [],
      "authorship_tag": "ABX9TyPutMxZ7kNx9Gy0LkTerTjA",
      "include_colab_link": true
    },
    "kernelspec": {
      "name": "python3",
      "display_name": "Python 3"
    },
    "language_info": {
      "name": "python"
    }
  },
  "cells": [
    {
      "cell_type": "markdown",
      "metadata": {
        "id": "view-in-github",
        "colab_type": "text"
      },
      "source": [
        "<a href=\"https://colab.research.google.com/github/Reyqq/learning/blob/main/%D0%9E%D0%9E%D0%9F/classmethod_%D0%B8_%D1%81%D1%82%D0%B0%D1%82%D0%B8%D1%87%D0%B5%D1%81%D0%BA%D0%B8%D0%B5_%D0%BC%D0%B5%D1%82%D0%BE%D0%B4%D1%8B(staticmethod).ipynb\" target=\"_parent\"><img src=\"https://colab.research.google.com/assets/colab-badge.svg\" alt=\"Open In Colab\"/></a>"
      ]
    },
    {
      "cell_type": "markdown",
      "source": [
        "# Методы класса (classmethod)\n",
        "\n",
        "Методы класса связаны с классом, а не с экземпляром класса. Они могут изменять состояние самого класса, а не его отдельных экземпляров. Методы класса объявляются с помощью декоратора **@classmethod.**\n",
        "\n",
        "**Синтаксис и использование**\n",
        "\n",
        "Метод класса должен принимать первый аргумент **cls**, который представляет сам класс. Пример:"
      ],
      "metadata": {
        "id": "w7hq9NAjoXYO"
      }
    },
    {
      "cell_type": "code",
      "source": [
        "class MyClass:\n",
        "    class_variable = 0\n",
        "\n",
        "    @classmethod\n",
        "    def class_method(cls, value):\n",
        "        cls.class_variable += value\n",
        "\n",
        "# Проверка работы\n",
        "MyClass.class_method(10)\n",
        "print(MyClass.class_variable)  # Выведет: 10\n"
      ],
      "metadata": {
        "id": "kaLnBNyppQSZ"
      },
      "execution_count": null,
      "outputs": []
    },
    {
      "cell_type": "markdown",
      "source": [
        "В этом примере метод **class_method** изменяет переменную класса **class_variable.**\n",
        "\n",
        "**Когда использовать методы класса?**\n",
        "\n",
        "Методы класса полезны, когда нужно:\n",
        "- Изменять состояние класса.\n",
        "- Создавать фабричные методы, которые возвращают новый экземпляр класса, используя альтернативные конструкторы.\n",
        "\n",
        "**Статические методы (staticmethod)**\n",
        "\n",
        "Статические методы не связаны ни с экземплярами класса, ни с самим классом. Они работают как обычные функции, но находятся внутри класса для логической группировки. Статические методы объявляются с помощью декоратора **@staticmethod.**\n",
        "\n",
        "**Синтаксис и использование**\n",
        "\n",
        "Статический метод не принимает параметр *self* или *cls*. Пример:\n"
      ],
      "metadata": {
        "id": "cjyEtgI2pfQl"
      }
    },
    {
      "cell_type": "code",
      "source": [
        "class MyClass:\n",
        "    @staticmethod\n",
        "    def static_method(x, y):\n",
        "        return x + y\n",
        "\n",
        "# Проверка работы\n",
        "result = MyClass.static_method(5, 3)\n",
        "print(result)  # Выведет: 8\n"
      ],
      "metadata": {
        "colab": {
          "base_uri": "https://localhost:8080/"
        },
        "id": "vZfyJr9L95aA",
        "outputId": "c311197a-3414-4ac1-d27a-9e67e8162b77"
      },
      "execution_count": 1,
      "outputs": [
        {
          "output_type": "stream",
          "name": "stdout",
          "text": [
            "8\n"
          ]
        }
      ]
    },
    {
      "cell_type": "markdown",
      "source": [
        "В этом примере метод *static_method* выполняет простую операцию сложения и не зависит ни от какого состояния класса или экземпляра.\n",
        "\n",
        "**Когда использовать статические методы**\n",
        "\n",
        "Статические методы полезны, когда нужно:\n",
        "\n",
        "1. Группировать функции, которые имеют логическую связь с классом, но не требуют доступа к состоянию класса или экземпляра.\n",
        "\n",
        "2. Уменьшить связанность кода, сохраняя функции внутри класса для лучшей организации.\n",
        "\n",
        "Сравнение **classmethod** и **staticmethod**\n",
        "\n",
        "**Основные различия**\n",
        "\n",
        "1. @classmethod:**\n",
        "  - Принимает первым аргументом *cls*, представляющий сам класс.\n",
        "  - Может изменять состояние класса или вызывать другие методы класса.\n",
        "  - Полезен для создания альтернативных конструкторов или методов, которые работают с переменными класса.\n",
        "\n",
        "2. **@staticmethod:**\n",
        "  - Не принимает *self* или *cls.*\n",
        "  - Не может изменять состояние класса или экземпляра.\n",
        "  - Полезен для вспомогательных функций, которые имеют логическую связь с классом.\n",
        "\n",
        "  **Примеры использования**\n",
        "  Пример **classmethod** для создания альтернативного конструктора:"
      ],
      "metadata": {
        "id": "9OHbr0n-99nR"
      }
    },
    {
      "cell_type": "code",
      "source": [
        "class Person:\n",
        "    def __init__(self, name, age):\n",
        "        self.name = name\n",
        "        self.age = age\n",
        "\n",
        "    @classmethod\n",
        "    def from_birth_year(cls, name, birth_year):\n",
        "        age = 2024 - birth_year\n",
        "        return cls(name, age)\n",
        "\n",
        "# Проверка работы\n",
        "person1 = Person(\"Alice\", 30)\n",
        "person2 = Person.from_birth_year(\"Bob\", 1990)\n",
        "\n",
        "print(person1.name, person1.age)  # Выведет: Alice 30\n",
        "print(person2.name, person2.age)  # Выведет: Bob 34\n"
      ],
      "metadata": {
        "colab": {
          "base_uri": "https://localhost:8080/"
        },
        "id": "rGLLGoyDAExa",
        "outputId": "1d75192b-6414-40cd-90da-fbe14769feb3"
      },
      "execution_count": 2,
      "outputs": [
        {
          "output_type": "stream",
          "name": "stdout",
          "text": [
            "Alice 30\n",
            "Bob 34\n"
          ]
        }
      ]
    },
    {
      "cell_type": "markdown",
      "source": [
        "Пример **staticmethod** для вспомогательной функции:"
      ],
      "metadata": {
        "id": "3VZ93f1rAKEm"
      }
    },
    {
      "cell_type": "code",
      "source": [
        "class MathOperations:\n",
        "    @staticmethod\n",
        "    def add(x, y):\n",
        "        return x + y\n",
        "\n",
        "    @staticmethod\n",
        "    def multiply(x, y):\n",
        "        return x * y\n",
        "\n",
        "# Проверка работы\n",
        "print(MathOperations.add(5, 3))      # Выведет: 8\n",
        "print(MathOperations.multiply(5, 3))  # Выведет: 15\n"
      ],
      "metadata": {
        "colab": {
          "base_uri": "https://localhost:8080/"
        },
        "id": "-oY6OfH5AL59",
        "outputId": "04813524-a9ca-4ac2-ffe1-e5ca729138ac"
      },
      "execution_count": 3,
      "outputs": [
        {
          "output_type": "stream",
          "name": "stdout",
          "text": [
            "8\n",
            "15\n"
          ]
        }
      ]
    },
    {
      "cell_type": "markdown",
      "source": [
        "# Заключение\n",
        "\n",
        "Методы класса и статические методы предоставляют различные способы управления и организации функциональности в классах. **@classmethod** полезен, когда нужно работать с самим классом или его состоянием, тогда как **@staticmethod** удобен для логической группировки вспомогательных функций. Использование этих методов помогает сделать код более организованным, чистым и поддерживаемым."
      ],
      "metadata": {
        "id": "dhdVcRyvAaWJ"
      }
    }
  ]
}