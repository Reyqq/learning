{
  "nbformat": 4,
  "nbformat_minor": 0,
  "metadata": {
    "colab": {
      "provenance": [],
      "authorship_tag": "ABX9TyM+ODC02zbKho3FR2JcuSgk",
      "include_colab_link": true
    },
    "kernelspec": {
      "name": "python3",
      "display_name": "Python 3"
    },
    "language_info": {
      "name": "python"
    }
  },
  "cells": [
    {
      "cell_type": "markdown",
      "metadata": {
        "id": "view-in-github",
        "colab_type": "text"
      },
      "source": [
        "<a href=\"https://colab.research.google.com/github/Reyqq/learning/blob/main/%D0%9E%D0%9E%D0%9F/init_and_del.ipynb\" target=\"_parent\"><img src=\"https://colab.research.google.com/assets/colab-badge.svg\" alt=\"Open In Colab\"/></a>"
      ]
    },
    {
      "cell_type": "markdown",
      "source": [
        "# Инициализатор $__init__$ и финализатор $__del__$ в ООП"
      ],
      "metadata": {
        "id": "fq64yUjZd_z9"
      }
    },
    {
      "cell_type": "markdown",
      "source": [
        "Инициализатор $__init__$.\n",
        "\n",
        "**Инициализатор $__init__$ **- это метод, который автоматически вызывается при создании нового объекта класса. Его основная задача — инициализировать атрибуты объекта, то есть задавать им начальные значения.\n",
        "\n",
        "\n",
        "**Основные моменты:**\n",
        "\n",
        "- Метод $__init__$не возвращает никаких значений (поэтому в конце метода нет **return**).\n",
        "\n",
        "- Первый параметр метода — это *self*, который является ссылкой на создаваемый объект.\n",
        "\n",
        "- Дополнительные параметры используются для передачи данных при создании объекта.\n",
        "\n",
        "Пример:"
      ],
      "metadata": {
        "id": "ffLMZbpaeHOR"
      }
    },
    {
      "cell_type": "code",
      "source": [
        "class Person:\n",
        "    def __init__(self, name, age):\n",
        "        self.name = name  # инициализация атрибута name\n",
        "        self.age = age    # инициализация атрибута age\n",
        "\n",
        "# Создание объекта\n",
        "person = Person(\"Alice\", 30)\n",
        "print(person.name)  # Выведет: Alice\n",
        "print(person.age)   # Выведет: 30\n"
      ],
      "metadata": {
        "colab": {
          "base_uri": "https://localhost:8080/"
        },
        "id": "_v5QaOqzfPue",
        "outputId": "3fedf557-a8dc-4d6b-f927-7d924f99168a"
      },
      "execution_count": 1,
      "outputs": [
        {
          "output_type": "stream",
          "name": "stdout",
          "text": [
            "Alice\n",
            "30\n"
          ]
        }
      ]
    },
    {
      "cell_type": "markdown",
      "source": [
        "# Финализатор $__del__$\n",
        "\n",
        "**Финализатор $__del__$** - это метод, который вызывается перед удалением объекта. Его основная задача — освободить ресурсы или выполнить какие-либо завершающие действия.\n",
        "\n",
        "**Основные моменты:**\n",
        "\n",
        "- Метод $__del__$ не вызывается явно (за исключением редких случаев) и обычно не принимает никаких параметров кроме *self*.\n",
        "\n",
        "- Вызывается автоматически, когда объект удаляется сборщиком мусора (например, когда объект перестает быть доступным).\n",
        "\n",
        "**Пример:**"
      ],
      "metadata": {
        "id": "hHylyosDfZiK"
      }
    },
    {
      "cell_type": "code",
      "source": [
        "class Person:\n",
        "    def __init__(self, name, age):\n",
        "        self.name = name\n",
        "        self.age = age\n",
        "\n",
        "    def __del__(self):\n",
        "        print(f\"Удаление объекта: {self.name}\")\n",
        "\n",
        "# Создание объекта\n",
        "person = Person(\"Alice\", 30)\n",
        "print(person.name)  # Выведет: Alice\n",
        "print(person.age)   # Выведет: 30\n",
        "\n",
        "# Удаление объекта\n",
        "del person  # Выведет: Удаление объекта: Alice\n",
        "\n",
        "print(person.name) # Выведет: NameError: name 'person' is not defined\n"
      ],
      "metadata": {
        "colab": {
          "base_uri": "https://localhost:8080/",
          "height": 228
        },
        "id": "qaUaaGEwf8qB",
        "outputId": "cb14fc3f-a046-43d8-ae45-dd07453fff25"
      },
      "execution_count": 4,
      "outputs": [
        {
          "output_type": "stream",
          "name": "stdout",
          "text": [
            "Alice\n",
            "30\n",
            "Удаление объекта: Alice\n"
          ]
        },
        {
          "output_type": "error",
          "ename": "NameError",
          "evalue": "name 'person' is not defined",
          "traceback": [
            "\u001b[0;31m---------------------------------------------------------------------------\u001b[0m",
            "\u001b[0;31mNameError\u001b[0m                                 Traceback (most recent call last)",
            "\u001b[0;32m<ipython-input-4-3d490d8f415c>\u001b[0m in \u001b[0;36m<cell line: 17>\u001b[0;34m()\u001b[0m\n\u001b[1;32m     15\u001b[0m \u001b[0;32mdel\u001b[0m \u001b[0mperson\u001b[0m  \u001b[0;31m# Выведет: Удаление объекта: Alice\u001b[0m\u001b[0;34m\u001b[0m\u001b[0;34m\u001b[0m\u001b[0m\n\u001b[1;32m     16\u001b[0m \u001b[0;34m\u001b[0m\u001b[0m\n\u001b[0;32m---> 17\u001b[0;31m \u001b[0mprint\u001b[0m\u001b[0;34m(\u001b[0m\u001b[0mperson\u001b[0m\u001b[0;34m.\u001b[0m\u001b[0mname\u001b[0m\u001b[0;34m)\u001b[0m \u001b[0;31m# Выведет: NameError: name 'person' is not defined\u001b[0m\u001b[0;34m\u001b[0m\u001b[0;34m\u001b[0m\u001b[0m\n\u001b[0m",
            "\u001b[0;31mNameError\u001b[0m: name 'person' is not defined"
          ]
        }
      ]
    },
    {
      "cell_type": "markdown",
      "source": [
        "# Детали использования $__init__$ и $__del__$\n",
        "\n",
        "**Параметры инициализатора**\n",
        "\n",
        "Инициализатор может принимать любое количество параметров, которые необходимы для инициализации объекта.\n",
        "\n",
        "**Обработка ошибок в инициализаторе**\n",
        "\n",
        "Если при инициализации объекта могут возникнуть ошибки, их можно обработать внутри метода $__init__$."
      ],
      "metadata": {
        "id": "tB5zQLZphBNR"
      }
    },
    {
      "cell_type": "code",
      "source": [
        "class Person:\n",
        "    def __init__(self, name, age):\n",
        "        if age < 0:\n",
        "            raise ValueError(\"Возраст не может быть отрицательным\")\n",
        "        self.name = name\n",
        "        self.age = age\n",
        "\n",
        "\n",
        "person = Person(\"Alice\", -5)\n",
        "\n"
      ],
      "metadata": {
        "colab": {
          "base_uri": "https://localhost:8080/",
          "height": 315
        },
        "id": "7xJzRWAujZT-",
        "outputId": "5781fad6-edaa-4fe8-df0d-98c4dd409b52"
      },
      "execution_count": 6,
      "outputs": [
        {
          "output_type": "error",
          "ename": "ValueError",
          "evalue": "Возраст не может быть отрицательным",
          "traceback": [
            "\u001b[0;31m---------------------------------------------------------------------------\u001b[0m",
            "\u001b[0;31mValueError\u001b[0m                                Traceback (most recent call last)",
            "\u001b[0;32m<ipython-input-6-905ee2f04580>\u001b[0m in \u001b[0;36m<cell line: 9>\u001b[0;34m()\u001b[0m\n\u001b[1;32m      7\u001b[0m \u001b[0;34m\u001b[0m\u001b[0m\n\u001b[1;32m      8\u001b[0m \u001b[0;34m\u001b[0m\u001b[0m\n\u001b[0;32m----> 9\u001b[0;31m \u001b[0mperson\u001b[0m \u001b[0;34m=\u001b[0m \u001b[0mPerson\u001b[0m\u001b[0;34m(\u001b[0m\u001b[0;34m\"Alice\"\u001b[0m\u001b[0;34m,\u001b[0m \u001b[0;34m-\u001b[0m\u001b[0;36m5\u001b[0m\u001b[0;34m)\u001b[0m\u001b[0;34m\u001b[0m\u001b[0;34m\u001b[0m\u001b[0m\n\u001b[0m\u001b[1;32m     10\u001b[0m \u001b[0;34m\u001b[0m\u001b[0m\n",
            "\u001b[0;32m<ipython-input-6-905ee2f04580>\u001b[0m in \u001b[0;36m__init__\u001b[0;34m(self, name, age)\u001b[0m\n\u001b[1;32m      2\u001b[0m     \u001b[0;32mdef\u001b[0m \u001b[0m__init__\u001b[0m\u001b[0;34m(\u001b[0m\u001b[0mself\u001b[0m\u001b[0;34m,\u001b[0m \u001b[0mname\u001b[0m\u001b[0;34m,\u001b[0m \u001b[0mage\u001b[0m\u001b[0;34m)\u001b[0m\u001b[0;34m:\u001b[0m\u001b[0;34m\u001b[0m\u001b[0;34m\u001b[0m\u001b[0m\n\u001b[1;32m      3\u001b[0m         \u001b[0;32mif\u001b[0m \u001b[0mage\u001b[0m \u001b[0;34m<\u001b[0m \u001b[0;36m0\u001b[0m\u001b[0;34m:\u001b[0m\u001b[0;34m\u001b[0m\u001b[0;34m\u001b[0m\u001b[0m\n\u001b[0;32m----> 4\u001b[0;31m             \u001b[0;32mraise\u001b[0m \u001b[0mValueError\u001b[0m\u001b[0;34m(\u001b[0m\u001b[0;34m\"Возраст не может быть отрицательным\"\u001b[0m\u001b[0;34m)\u001b[0m\u001b[0;34m\u001b[0m\u001b[0;34m\u001b[0m\u001b[0m\n\u001b[0m\u001b[1;32m      5\u001b[0m         \u001b[0mself\u001b[0m\u001b[0;34m.\u001b[0m\u001b[0mname\u001b[0m \u001b[0;34m=\u001b[0m \u001b[0mname\u001b[0m\u001b[0;34m\u001b[0m\u001b[0;34m\u001b[0m\u001b[0m\n\u001b[1;32m      6\u001b[0m         \u001b[0mself\u001b[0m\u001b[0;34m.\u001b[0m\u001b[0mage\u001b[0m \u001b[0;34m=\u001b[0m \u001b[0mage\u001b[0m\u001b[0;34m\u001b[0m\u001b[0;34m\u001b[0m\u001b[0m\n",
            "\u001b[0;31mValueError\u001b[0m: Возраст не может быть отрицательным"
          ]
        }
      ]
    },
    {
      "cell_type": "markdown",
      "source": [
        "**Использование финализатора**\n",
        "\n",
        "Финализатор используется редко, так как Python имеет автоматическую сборку мусора. Однако, в некоторых случаях его использование может быть полезным, например, для закрытия файлов или освобождения сетевых соединений."
      ],
      "metadata": {
        "id": "8aeukv2Aj6nT"
      }
    },
    {
      "cell_type": "code",
      "source": [
        "class FileHandler:\n",
        "    def __init__(self, filename):\n",
        "        self.file = open(filename, 'r')\n",
        "\n",
        "    def __del__(self):\n",
        "        self.file.close()\n",
        "        print(f\"Файл {self.file.name} закрыт\")\n",
        "\n",
        "# Создание объекта\n",
        "file_handler = FileHandler(\"example.txt\")\n",
        "\n",
        "# Использование объекта\n",
        "content = file_handler.file.read()\n",
        "\n",
        "# Удаление объекта и закрытие файла\n",
        "del file_handler  # Выведет: Файл example.txt закрыт"
      ],
      "metadata": {
        "id": "22I_-G6UkJTN"
      },
      "execution_count": null,
      "outputs": []
    },
    {
      "cell_type": "markdown",
      "source": [
        "**Особенности использования $__del__$**\n",
        "\n",
        "1. **Не гарантируется немедленное выполнение:** Сборщик мусора может сработать не сразу после удаления ссылки на объект.\n",
        "\n",
        "2. **Не всегда вызывается:** Если программа завершает работу, финализатор может не вызваться.\n",
        "\n",
        "3. **Взаимозависимые объекты:** Если два объекта ссылаются друг на друга, сборщик мусора может не удалить их автоматически, что приведет к утечке памяти."
      ],
      "metadata": {
        "id": "cmmPpyl3kO57"
      }
    },
    {
      "cell_type": "markdown",
      "source": [
        "# Итог\n",
        "\n",
        "Методы $__init__$ и $__del__$ играют важную роль в инициализации и завершении жизненного цикла объекта. Понимание и правильное использование этих методов позволяют создавать надежные и эффективные классы в Python."
      ],
      "metadata": {
        "id": "VSvCyBQilZsa"
      }
    }
  ]
}