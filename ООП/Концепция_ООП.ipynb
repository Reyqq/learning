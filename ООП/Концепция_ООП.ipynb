{
  "nbformat": 4,
  "nbformat_minor": 0,
  "metadata": {
    "colab": {
      "provenance": [],
      "authorship_tag": "ABX9TyOdvucSAF1Zp1DzVvOu1Us0",
      "include_colab_link": true
    },
    "kernelspec": {
      "name": "python3",
      "display_name": "Python 3"
    },
    "language_info": {
      "name": "python"
    }
  },
  "cells": [
    {
      "cell_type": "markdown",
      "metadata": {
        "id": "view-in-github",
        "colab_type": "text"
      },
      "source": [
        "<a href=\"https://colab.research.google.com/github/Reyqq/learning/blob/main/%D0%9E%D0%9E%D0%9F/%D0%9A%D0%BE%D0%BD%D1%86%D0%B5%D0%BF%D1%86%D0%B8%D1%8F_%D0%9E%D0%9E%D0%9F.ipynb\" target=\"_parent\"><img src=\"https://colab.research.google.com/assets/colab-badge.svg\" alt=\"Open In Colab\"/></a>"
      ]
    },
    {
      "cell_type": "markdown",
      "source": [
        "# Концепция ООП\n",
        "\n",
        "**Объектно-ориентированное программирование(ООП)** — это способ организации программного кода, который позволяет моделировать реальные объекты и их взаимодействие. Основные идеи ООП можно объяснить на простых примерах.\n",
        "\n",
        "\n",
        "# Основные концепции ООП\n",
        "\n",
        "1. **Классы и объекты.**\n",
        "\n",
        "2. **Инкапсуляция.**\n",
        "\n",
        "3. **Наследование.**\n",
        "\n",
        "4. **Полиморфизм**\n",
        "\n",
        "# Class\n",
        "\n",
        "   **Class** — это шаблон или чертеж для создания объектов. Класс определяет свойства (атрибуты) и поведение (методы), которые будут у объектов этого класса.\n",
        "\n",
        "# Свойства класса\n",
        "\n",
        "**Свойства класса (или атрибуты)** — это переменные, которые принадлежат классу и определяют состояние объекта.\n",
        "\n",
        "**Виды свойств:**\n",
        "\n",
        "- **Атрибуты экземпляра:** Атрибуты, принадлежащие конкретному экземпляру класса. Они определяются внутри методов класса, обычно в конструкторе $(__init__)$.\n",
        "\n",
        "- **Атрибуты класса:** Атрибуты, которые общие для всех экземпляров класса. Они определяются непосредственно внутри тела класса.\n",
        "\n",
        "Примеры:"
      ],
      "metadata": {
        "id": "jHNl1jBHcbLm"
      }
    },
    {
      "cell_type": "code",
      "source": [
        "class Car:\n",
        "    # Атрибут класса\n",
        "    wheels = 4\n",
        "\n",
        "    def __init__(self, make, model):\n",
        "        # Атрибуты экземпляра\n",
        "        self.make = make\n",
        "        self.model = model\n",
        "\n",
        "# Создание экземпляров класса\n",
        "car1 = Car(\"Toyota\", \"Camry\")\n",
        "car2 = Car(\"Honda\", \"Accord\")\n",
        "\n",
        "print(car1.make)  # Output: Toyota\n",
        "print(car2.model)  # Output: Accord\n",
        "print(Car.wheels)  # Output: 4"
      ],
      "metadata": {
        "id": "je_GmMFEgRoh"
      },
      "execution_count": null,
      "outputs": []
    },
    {
      "cell_type": "markdown",
      "source": [
        "# Методы класса\n",
        "\n",
        "**Методы класса** — это функции, которые принадлежат классу и определяют поведение объектов. Методы позволяют манипулировать атрибутами экземпляров и класса.\n",
        "\n",
        "**Виды методов:**\n",
        "  - **Методы экземпляра:** Методы, которые работают с конкретным экземпляром класса. Они принимают \\\\( self\\\\) как первый аргумент.\n",
        "  - **Методы класса:** Методы, которые работают с классом в целом. Они принимают \\\\( cls\\\\) как первый аргумент и определяются с помощью декоратора **@classmethod.**\n",
        "  - **Статические методы:** Методы, которые не привязаны ни к экземпляру, ни к классу. Они определяются с помощью декоратора **@staticmethod.**\n",
        "\n",
        "**Пример:**"
      ],
      "metadata": {
        "id": "g7ahcyNLg43d"
      }
    },
    {
      "cell_type": "code",
      "source": [
        "class Car:\n",
        "    wheels = 4\n",
        "\n",
        "    def __init__(self, make, model):\n",
        "        self.make = make\n",
        "        self.model = model\n",
        "\n",
        "    # Метод экземпляра\n",
        "    def get_info(self):\n",
        "        return f\"{self.make} {self.model}\"\n",
        "\n",
        "    # Метод класса\n",
        "    @classmethod\n",
        "    def get_wheels(cls):\n",
        "        return cls.wheels\n",
        "\n",
        "    # Статический метод\n",
        "    @staticmethod\n",
        "    def is_motor_vehicle():\n",
        "        return True\n",
        "\n",
        "# Создание экземпляра класса\n",
        "car1 = Car(\"Toyota\", \"Camry\")\n",
        "\n",
        "# Вызов метода экземпляра\n",
        "print(car1.get_info())  # Output: Toyota Camry\n",
        "\n",
        "# Вызов метода класса\n",
        "print(Car.get_wheels())  # Output: 4\n",
        "\n",
        "# Вызов статического метода\n",
        "print(Car.is_motor_vehicle())  # Output: True\n"
      ],
      "metadata": {
        "id": "yLSBQdp0hniH"
      },
      "execution_count": null,
      "outputs": []
    },
    {
      "cell_type": "markdown",
      "source": [
        "# Инкапсуляция, наследование и полиморфизм в ООП\n",
        "\n",
        "**Инкапсуляция**\n",
        "\n",
        "**Инкапсуляция** — это механизм, который объединяет данные (атрибуты) и методы (функции), работающие с этими данными, в один модуль (класс), и ограничивает доступ к этим данным из вне. Основная цель инкапсуляции — защита данных от некорректного использования и упрощение работы с объектами.\n",
        "\n",
        "**Принципы инкапсуляции:**\n",
        "1. **Скрытие данных:** Делает атрибуты недоступными напрямую из вне класса.\n",
        "2. **Методы доступа:** Предоставляет публичные методы для доступа и модификации скрытых атрибутов (геттеры и сеттеры).\n",
        "\n",
        "**Пример инкапсуляции:**"
      ],
      "metadata": {
        "id": "J7XidTl40bNn"
      }
    },
    {
      "cell_type": "code",
      "source": [
        "class Person:\n",
        "    def __init__(self, name, age):\n",
        "        self.__name = name  # Приватный атрибут\n",
        "        self.__age = age    # Приватный атрибут\n",
        "\n",
        "    # Геттер для name\n",
        "    def get_name(self):\n",
        "        return self.__name\n",
        "\n",
        "    # Сеттер для name\n",
        "    def set_name(self, name):\n",
        "        self.__name = name\n",
        "\n",
        "    # Геттер для age\n",
        "    def get_age(self):\n",
        "        return self.__age\n",
        "\n",
        "    # Сеттер для age\n",
        "    def set_age(self, age):\n",
        "        if age > 0:\n",
        "            self.__age = age\n",
        "        else:\n",
        "            raise ValueError(\"Возраст должен быть положительным числом\")\n",
        "\n",
        "# Пример использования\n",
        "person = Person(\"Alice\", 30)\n",
        "print(person.get_name())  # Alice\n",
        "person.set_age(31)\n",
        "print(person.get_age())   # 31\n"
      ],
      "metadata": {
        "colab": {
          "base_uri": "https://localhost:8080/"
        },
        "id": "sv0UNJFy1Ohr",
        "outputId": "29713492-2783-4288-826d-a42100ea8f4b"
      },
      "execution_count": null,
      "outputs": [
        {
          "output_type": "stream",
          "name": "stdout",
          "text": [
            "Alice\n",
            "31\n"
          ]
        }
      ]
    },
    {
      "cell_type": "markdown",
      "source": [
        "**Наследование**\n",
        "\n",
        "**Наследование** — это механизм, который позволяет одному классу (производному или подклассу) унаследовать атрибуты и методы другого класса (базового или родительского класса). Это позволяет создавать иерархию классов и повторно использовать код.\n",
        "\n",
        "**Принципы наследования:**\n",
        "\n",
        "1. **Переиспользование кода:** Производные классы могут использовать методы и атрибуты базовых классов.\n",
        "2. **Расширение функциональности:** Производные классы могут добавлять новые атрибуты и методы или переопределять существующие.\n",
        "\n",
        "**Пример наследования:**"
      ],
      "metadata": {
        "id": "IOAeQq1Y1okh"
      }
    },
    {
      "cell_type": "code",
      "source": [
        "class Animal:\n",
        "    def __init__(self, name):\n",
        "        self.name = name\n",
        "\n",
        "    def speak(self):\n",
        "        raise NotImplementedError(\"Подклассы должны реализовать этот метод\")\n",
        "\n",
        "class Dog(Animal):\n",
        "    def speak(self):\n",
        "        return f\"{self.name} говорит: Гав-гав!\"\n",
        "\n",
        "class Cat(Animal):\n",
        "    def speak(self):\n",
        "        return f\"{self.name} говорит: Мяу!\"\n",
        "\n",
        "# Пример использования\n",
        "dog = Dog(\"Барсик\")\n",
        "cat = Cat(\"Мурзик\")\n",
        "print(dog.speak())  # Барсик говорит: Гав-гав!\n",
        "print(cat.speak())  # Мурзик говорит: Мяу!\n"
      ],
      "metadata": {
        "colab": {
          "base_uri": "https://localhost:8080/"
        },
        "id": "jUpXGgPO2H4Z",
        "outputId": "1266c5cb-f18c-4d39-93f3-9b53942e6c9b"
      },
      "execution_count": null,
      "outputs": [
        {
          "output_type": "stream",
          "name": "stdout",
          "text": [
            "Барсик говорит: Гав-гав!\n",
            "Мурзик говорит: Мяу!\n"
          ]
        }
      ]
    },
    {
      "cell_type": "markdown",
      "source": [
        "**Полиморфизм**\n",
        "\n",
        "**Полиморфизм** — это способность объектов разных классов обрабатывать данные посредством одного и того же интерфейса. Это позволяет использовать одно и то же имя метода для различных реализаций в разных классах.\n",
        "\n",
        "**Принципы полиморфизма:**\n",
        "1. **Единый интерфейс:** Методы с одинаковым именем в разных классах могут иметь разную реализацию.\n",
        "2. **Унификация кода:** Полиморфизм позволяет писать более универсальный код, который может работать с объектами разных типов.\n",
        "\n",
        "**Пример полиморфизма:**"
      ],
      "metadata": {
        "id": "6-0IKmwG2UEp"
      }
    },
    {
      "cell_type": "code",
      "source": [
        "class Bird:\n",
        "    def fly(self):\n",
        "        return \"Птица летит\"\n",
        "\n",
        "class Airplane:\n",
        "    def fly(self):\n",
        "        return \"Самолет летит\"\n",
        "\n",
        "def make_it_fly(flying_object):\n",
        "    print(flying_object.fly())\n",
        "\n",
        "# Пример использования\n",
        "bird = Bird()\n",
        "airplane = Airplane()\n",
        "make_it_fly(bird)       # Птица летит\n",
        "make_it_fly(airplane)   # Самолет летит\n"
      ],
      "metadata": {
        "id": "BKBVsvUo2qNu"
      },
      "execution_count": null,
      "outputs": []
    },
    {
      "cell_type": "markdown",
      "source": [
        "# Итог\n",
        "\n",
        "**Инкапсуляция** защищает данные и скрывает детали реализации, **наследование** позволяет повторно использовать код и создавать иерархии классов, а **полиморфизм** обеспечивает гибкость и универсальность кода, позволяя объектам разных типов использовать общий интерфейс. Эти три принципа составляют основу объектно-ориентированного программирования, помогая создавать структурированные и легко поддерживаемые программы."
      ],
      "metadata": {
        "id": "V3ggMeof22iO"
      }
    },
    {
      "cell_type": "markdown",
      "source": [
        "# Разбор **self** в ООП\n",
        "\n",
        "**Что такое *self*?**\n",
        "\n",
        "**self** — это особый первый параметр методов класса в Python, который представляет собой ссылку на экземпляр класса, с которым был вызван метод. Он позволяет методам класса получать доступ к атрибутам и другим методам этого экземпляра.\n",
        "\n",
        "**Почему используется *self*?**\n",
        "\n",
        "1. **Идентификация экземпляра:** *self* позволяет методам класса обращаться к данным и методам конкретного экземпляра класса, с которым они были вызваны.\n",
        "\n",
        "2. **Четкость кода:** Использование *self* делает код более понятным, так как явно указывает, что методы и атрибуты принадлежат конкретному экземпляру.\n",
        "\n",
        "**Пример использования *self*:**\n"
      ],
      "metadata": {
        "id": "hMeSd5XsVRDQ"
      }
    },
    {
      "cell_type": "code",
      "source": [
        "class Person:\n",
        "    def __init__(self, name, age):\n",
        "      self.name = name\n",
        "      self.age = age\n",
        "\n",
        "    def greet(self):\n",
        "      print(f'Привет, меня зовут {self.name} и мне {self.age} лет')\n",
        "\n",
        "# Создание экземпляра\n",
        "person1 = Person('Владосик', 28)\n",
        "person2 = Person('Юрец', 26)\n",
        "\n",
        "# Вызов метода greet\n",
        "person1.greet() # Привет, меня зовут Владосик и мне 28 лет\n",
        "person2.greet() # Привет, меня зовут Юрец и мне 26 лет"
      ],
      "metadata": {
        "colab": {
          "base_uri": "https://localhost:8080/"
        },
        "id": "0jbCsSGn84Gd",
        "outputId": "392ad559-de79-4bb2-8f71-375cc81facbf"
      },
      "execution_count": 7,
      "outputs": [
        {
          "output_type": "stream",
          "name": "stdout",
          "text": [
            "Привет, меня зовут Владосик и мне 28 лет\n",
            "Привет, меня зовут Юрец и мне 26 лет\n"
          ]
        }
      ]
    },
    {
      "cell_type": "code",
      "source": [
        "class Car:\n",
        "  def __init__(self, name, model):\n",
        "    self.name = name\n",
        "    self.model = model\n",
        "\n",
        "  def display_info(self):\n",
        "    print(f'Автомобиль: {self.name} {self.model}')\n",
        "\n",
        "# Создание экземпляров\n",
        "car1 = Car('BMW', 'X5')\n",
        "car2 = Car('Toyota', 'Camry')\n",
        "\n",
        "# Вызов метода display_info\n",
        "car1.display_info() # Автомобиль: BMW X5\n",
        "car2.display_info() # Автомобиль: Toyota Camry"
      ],
      "metadata": {
        "colab": {
          "base_uri": "https://localhost:8080/"
        },
        "id": "sntbVVLJ_AGO",
        "outputId": "b6bd512b-ca42-4f52-d05c-9dfbe6183880"
      },
      "execution_count": 8,
      "outputs": [
        {
          "output_type": "stream",
          "name": "stdout",
          "text": [
            "Автомобиль: BMW X5\n",
            "Автомобиль: Toyota Camry\n"
          ]
        }
      ]
    },
    {
      "cell_type": "markdown",
      "source": [
        "В этом примере *self* используется для обращения к атрибутам *name* и *age* конкретного экземпляра класса.\n",
        "\n",
        "Как лучше понимать *self*?\n",
        "\n",
        "- **В контексте методов экземпляра:** В методах экземпляра *self* позволяет получать доступ к атрибутам и методам конкретного объекта.\n",
        "\n",
        "- **Как параметр конструктора:** В методе $ __init__ $, *self* используется для инициализации атрибутов объекта.\n",
        "\n",
        "- **Неявный первый аргумент:** При вызове метода экземпляра, Python автоматически передает объект как первый аргумент, который в методе указывается как *self*.\n",
        "\n",
        "**Изменение атрибутов через методы:**\n"
      ],
      "metadata": {
        "id": "kw-QUl8_93mr"
      }
    },
    {
      "cell_type": "code",
      "source": [
        "class BankAccount:\n",
        "  def __init__(self, balance):\n",
        "    self.balance = balance\n",
        "\n",
        "  def deposit(self, amount):\n",
        "    self.balance += amount\n",
        "    print(f\"Баланс после вклада: {self.balance}\")\n",
        "\n",
        "  def withdraw(self, amount):\n",
        "    if amount > self.balance:\n",
        "      print('Недостаточно средств')\n",
        "    else:\n",
        "      self.balance -= amount\n",
        "      print(f\"Баланс после снятия: {self.balance}\")\n",
        "\n",
        "# Создание экземпляра\n",
        "account = BankAccount(100)\n",
        "\n",
        "# Вызов методов deposit и withdraw\n",
        "account.deposit(50) # Баланс после вклада: 150\n",
        "account.withdraw(90) # Баланс после снятия: 60\n",
        "account.withdraw(200) # Недостаточно средств\n"
      ],
      "metadata": {
        "colab": {
          "base_uri": "https://localhost:8080/"
        },
        "id": "6UMehu2g_5ok",
        "outputId": "4e7ba55a-37ec-484e-e73b-dcc3edffa32a"
      },
      "execution_count": 10,
      "outputs": [
        {
          "output_type": "stream",
          "name": "stdout",
          "text": [
            "Баланс после вклада: 150\n",
            "Баланс после снятия: 60\n",
            "Недостаточно средств\n"
          ]
        }
      ]
    },
    {
      "cell_type": "markdown",
      "source": [
        "**Частые ошибки при использовании *self***\n",
        "\n",
        "1. Отсутствие *self* в методах:"
      ],
      "metadata": {
        "id": "jOK3r2itBKg7"
      }
    },
    {
      "cell_type": "code",
      "source": [
        "class Example:\n",
        "    def incorrect_method():  # Ошибка: отсутствует параметр self\n",
        "        print(\"Это неверный метод\")\n",
        "\n",
        "Example.incorrect_method()"
      ],
      "metadata": {
        "colab": {
          "base_uri": "https://localhost:8080/"
        },
        "id": "_7lBwoNRBbAw",
        "outputId": "3ece9ac1-6204-456f-a711-ab02394ecf15"
      },
      "execution_count": 12,
      "outputs": [
        {
          "output_type": "stream",
          "name": "stdout",
          "text": [
            "Это неверный метод\n"
          ]
        }
      ]
    },
    {
      "cell_type": "markdown",
      "source": [
        "Метод *incorrect_method* будет работать в том случае, если его вызвать на уровне класса, а не экземпляра класса. Давайте рассмотрим это более подробно.\n",
        "\n",
        "# Вызов метода на уровне класса\n",
        "\n",
        "Если вы вызываете метод на уровне класса, то *self* не нужен, так как нет конкретного экземпляра, с которым метод связан.\n",
        "\n",
        "В нашем с примере метод *incorrect_method* не принимает никаких аргументов, и он вызывается непосредственно от имени класса, поэтому он работает.\n",
        "\n",
        "# Вызов метода на уровне экземпляра\n",
        "\n",
        "Если вы пытаетесь вызвать этот метод на уровне экземпляра класса, это приведет к ошибке, потому что Python ожидает, что метод будет принимать как минимум один **аргумент(self)**, который будет ссылкой на текущий экземпляр."
      ],
      "metadata": {
        "id": "Gh8FkditETVK"
      }
    },
    {
      "cell_type": "code",
      "source": [
        "class Example:\n",
        "    def incorrect_method():  # Ошибка: отсутствует параметр self\n",
        "        print(\"Это неверный метод\")\n",
        "\n",
        "# Создание экземпляра класса\n",
        "example_instance = Example()\n",
        "\n",
        "# Попытка вызова метода на уровне экземпляра\n",
        "example_instance.incorrect_method()  # Ошибка: incorrect_method() takes 0 positional arguments but 1 was given\n"
      ],
      "metadata": {
        "colab": {
          "base_uri": "https://localhost:8080/",
          "height": 176
        },
        "id": "Ri2vespBE-Ih",
        "outputId": "0952ac4f-ba39-420b-a295-3c62bff0b76f"
      },
      "execution_count": 15,
      "outputs": [
        {
          "output_type": "error",
          "ename": "TypeError",
          "evalue": "Example.incorrect_method() takes 0 positional arguments but 1 was given",
          "traceback": [
            "\u001b[0;31m---------------------------------------------------------------------------\u001b[0m",
            "\u001b[0;31mTypeError\u001b[0m                                 Traceback (most recent call last)",
            "\u001b[0;32m<ipython-input-15-b0c43fa2654b>\u001b[0m in \u001b[0;36m<cell line: 9>\u001b[0;34m()\u001b[0m\n\u001b[1;32m      7\u001b[0m \u001b[0;34m\u001b[0m\u001b[0m\n\u001b[1;32m      8\u001b[0m \u001b[0;31m# Попытка вызова метода на уровне экземпляра\u001b[0m\u001b[0;34m\u001b[0m\u001b[0;34m\u001b[0m\u001b[0m\n\u001b[0;32m----> 9\u001b[0;31m \u001b[0mexample_instance\u001b[0m\u001b[0;34m.\u001b[0m\u001b[0mincorrect_method\u001b[0m\u001b[0;34m(\u001b[0m\u001b[0;34m)\u001b[0m  \u001b[0;31m# Ошибка: incorrect_method() takes 0 positional arguments but 1 was given\u001b[0m\u001b[0;34m\u001b[0m\u001b[0;34m\u001b[0m\u001b[0m\n\u001b[0m",
            "\u001b[0;31mTypeError\u001b[0m: Example.incorrect_method() takes 0 positional arguments but 1 was given"
          ]
        }
      ]
    },
    {
      "cell_type": "markdown",
      "source": [
        "В этом случае Python автоматически передает экземпляр *example_instance* как первый аргумент в метод *incorrect_method*, но метод не принимает аргументы, что и вызывает ошибку."
      ],
      "metadata": {
        "id": "rw7Abq05FIoB"
      }
    },
    {
      "cell_type": "markdown",
      "source": [
        "**Правильное использование *self***.\n",
        "\n",
        "Для корректной работы метода на уровне экземпляра необходимо добавить параметр *self*:\n"
      ],
      "metadata": {
        "id": "IaesNwDnFZ4R"
      }
    },
    {
      "cell_type": "code",
      "source": [
        "class Example:\n",
        "    def correct_method(self):  # self добавлен\n",
        "        print(\"Это правильный метод\")\n",
        "\n",
        "# Создание экземпляра класса\n",
        "example_instance = Example()\n",
        "\n",
        "# Вызов метода на уровне экземпляра\n",
        "example_instance.correct_method()  # Это правильный метод\n"
      ],
      "metadata": {
        "colab": {
          "base_uri": "https://localhost:8080/"
        },
        "id": "ZvVqKa-SFcEv",
        "outputId": "789884dc-5700-446d-fd41-219d4f064c56"
      },
      "execution_count": 16,
      "outputs": [
        {
          "output_type": "stream",
          "name": "stdout",
          "text": [
            "Это правильный метод\n"
          ]
        }
      ]
    },
    {
      "cell_type": "markdown",
      "source": [
        "Таким образом, метод *correct_method* принимает параметр *self*, который ссылается на текущий экземпляр класса, и теперь его можно вызвать как на уровне класса, так и на уровне экземпляра без ошибок."
      ],
      "metadata": {
        "id": "vYBV90ctFjrb"
      }
    },
    {
      "cell_type": "markdown",
      "source": [
        "2. Ошибка при обращении к атрибутам экземпляра без *self*.\n",
        "\n",
        "При обращении к атрибутам или методам экземпляра внутри класса необходимо использовать *self*.\n",
        "\n",
        "В следующем примере возникает ошибка, потому что в методе print_value переменная value не определена в локальной области видимости этого метода:"
      ],
      "metadata": {
        "id": "vFbGNhErBw1J"
      }
    },
    {
      "cell_type": "code",
      "source": [
        "class Example:\n",
        "    def __init__(self, value):\n",
        "        self.value = value\n",
        "\n",
        "    def print_value(self):\n",
        "        print(value)  # Ошибка: переменная 'value' не определена\n",
        "\n",
        "Example.print_value()"
      ],
      "metadata": {
        "colab": {
          "base_uri": "https://localhost:8080/",
          "height": 176
        },
        "id": "gRj-8HbiDW51",
        "outputId": "bbd7e50f-aa3a-436b-bd7b-baeaf4e3ffca"
      },
      "execution_count": 14,
      "outputs": [
        {
          "output_type": "error",
          "ename": "TypeError",
          "evalue": "Example.print_value() missing 1 required positional argument: 'self'",
          "traceback": [
            "\u001b[0;31m---------------------------------------------------------------------------\u001b[0m",
            "\u001b[0;31mTypeError\u001b[0m                                 Traceback (most recent call last)",
            "\u001b[0;32m<ipython-input-14-90f15d139268>\u001b[0m in \u001b[0;36m<cell line: 8>\u001b[0;34m()\u001b[0m\n\u001b[1;32m      6\u001b[0m         \u001b[0mprint\u001b[0m\u001b[0;34m(\u001b[0m\u001b[0mvalue\u001b[0m\u001b[0;34m)\u001b[0m  \u001b[0;31m# Ошибка: переменная 'value' не определена\u001b[0m\u001b[0;34m\u001b[0m\u001b[0;34m\u001b[0m\u001b[0m\n\u001b[1;32m      7\u001b[0m \u001b[0;34m\u001b[0m\u001b[0m\n\u001b[0;32m----> 8\u001b[0;31m \u001b[0mExample\u001b[0m\u001b[0;34m.\u001b[0m\u001b[0mprint_value\u001b[0m\u001b[0;34m(\u001b[0m\u001b[0;34m)\u001b[0m\u001b[0;34m\u001b[0m\u001b[0;34m\u001b[0m\u001b[0m\n\u001b[0m",
            "\u001b[0;31mTypeError\u001b[0m: Example.print_value() missing 1 required positional argument: 'self'"
          ]
        }
      ]
    },
    {
      "cell_type": "markdown",
      "source": [
        "При вызове метода *print_value* Python ищет переменную value в локальной области видимости метода, но не находит её, так как в этом методе нет переменной *value*. Правильное обращение должно использовать *self*, чтобы указать, что мы имеем в виду атрибут экземпляра."
      ],
      "metadata": {
        "id": "GvYFYz5II1Zs"
      }
    },
    {
      "cell_type": "markdown",
      "source": [
        "**Почему важно использовать *self***.\n",
        "\n",
        "Использование *self* в методах класса позволяет:\n",
        "- **Получать доступ к атрибутам и методам экземпляра:** Использование *self* гарантирует, что вы работаете с атрибутами и методами конкретного экземпляра.\n",
        "\n",
        "- **Избежать конфликтов имён:** Без *self* Python будет искать переменные в локальной области видимости метода, что может привести к ошибкам и конфликтам.\n",
        "\n",
        "- **Сделать код понятным:** Явное использование *self* делает код более читаемым и понятным, показывая, что определённые переменные и методы принадлежат экземпляру класса."
      ],
      "metadata": {
        "id": "rIpZ_xVTI-v_"
      }
    },
    {
      "cell_type": "markdown",
      "source": [
        "# Заключение\n",
        "\n",
        "*self* является важной частью объектно-ориентированного программирования в Python. Оно обеспечивает связь между методами и атрибутами конкретного экземпляра класса, делая код понятным и структурированным. Понимание и правильное использование self критически важно для эффективного написания и понимания кода на Python."
      ],
      "metadata": {
        "id": "b8SqohngDqIK"
      }
    }
  ]
}