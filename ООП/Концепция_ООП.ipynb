{
  "nbformat": 4,
  "nbformat_minor": 0,
  "metadata": {
    "colab": {
      "provenance": [],
      "authorship_tag": "ABX9TyNnyuT2djOmhpP7Z/rlgj8U",
      "include_colab_link": true
    },
    "kernelspec": {
      "name": "python3",
      "display_name": "Python 3"
    },
    "language_info": {
      "name": "python"
    }
  },
  "cells": [
    {
      "cell_type": "markdown",
      "metadata": {
        "id": "view-in-github",
        "colab_type": "text"
      },
      "source": [
        "<a href=\"https://colab.research.google.com/github/Reyqq/learning/blob/main/%D0%9E%D0%9E%D0%9F/%D0%9A%D0%BE%D0%BD%D1%86%D0%B5%D0%BF%D1%86%D0%B8%D1%8F_%D0%9E%D0%9E%D0%9F.ipynb\" target=\"_parent\"><img src=\"https://colab.research.google.com/assets/colab-badge.svg\" alt=\"Open In Colab\"/></a>"
      ]
    },
    {
      "cell_type": "markdown",
      "source": [
        "# Концепция ООП\n",
        "\n",
        "**Объектно-ориентированное программирование(ООП)** — это способ организации программного кода, который позволяет моделировать реальные объекты и их взаимодействие. Основные идеи ООП можно объяснить на простых примерах.\n",
        "\n",
        "\n",
        "# Основные концепции ООП\n",
        "\n",
        "1. **Классы и объекты.**\n",
        "\n",
        "2. **Инкапсуляция.**\n",
        "\n",
        "3. **Наследование.**\n",
        "\n",
        "4. **Полиморфизм**\n",
        "\n",
        "# Class\n",
        "\n",
        "   **Class** — это шаблон или чертеж для создания объектов. Класс определяет свойства (атрибуты) и поведение (методы), которые будут у объектов этого класса.\n",
        "\n",
        "# Свойства класса\n",
        "\n",
        "**Свойства класса (или атрибуты)** — это переменные, которые принадлежат классу и определяют состояние объекта.\n",
        "\n",
        "**Виды свойств:**\n",
        "\n",
        "- **Атрибуты экземпляра:** Атрибуты, принадлежащие конкретному экземпляру класса. Они определяются внутри методов класса, обычно в конструкторе $(__init__)$.\n",
        "\n",
        "- **Атрибуты класса:** Атрибуты, которые общие для всех экземпляров класса. Они определяются непосредственно внутри тела класса.\n",
        "\n",
        "Примеры:"
      ],
      "metadata": {
        "id": "jHNl1jBHcbLm"
      }
    },
    {
      "cell_type": "code",
      "source": [
        "class Car:\n",
        "    # Атрибут класса\n",
        "    wheels = 4\n",
        "\n",
        "    def __init__(self, make, model):\n",
        "        # Атрибуты экземпляра\n",
        "        self.make = make\n",
        "        self.model = model\n",
        "\n",
        "# Создание экземпляров класса\n",
        "car1 = Car(\"Toyota\", \"Camry\")\n",
        "car2 = Car(\"Honda\", \"Accord\")\n",
        "\n",
        "print(car1.make)  # Output: Toyota\n",
        "print(car2.model)  # Output: Accord\n",
        "print(Car.wheels)  # Output: 4"
      ],
      "metadata": {
        "id": "je_GmMFEgRoh"
      },
      "execution_count": null,
      "outputs": []
    }
  ]
}