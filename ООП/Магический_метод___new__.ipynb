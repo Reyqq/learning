{
  "nbformat": 4,
  "nbformat_minor": 0,
  "metadata": {
    "colab": {
      "provenance": [],
      "authorship_tag": "ABX9TyPL3NT+AEt/AL0SN58wzy2d",
      "include_colab_link": true
    },
    "kernelspec": {
      "name": "python3",
      "display_name": "Python 3"
    },
    "language_info": {
      "name": "python"
    }
  },
  "cells": [
    {
      "cell_type": "markdown",
      "metadata": {
        "id": "view-in-github",
        "colab_type": "text"
      },
      "source": [
        "<a href=\"https://colab.research.google.com/github/Reyqq/learning/blob/main/%D0%9E%D0%9E%D0%9F/%D0%9C%D0%B0%D0%B3%D0%B8%D1%87%D0%B5%D1%81%D0%BA%D0%B8%D0%B9_%D0%BC%D0%B5%D1%82%D0%BE%D0%B4___new__.ipynb\" target=\"_parent\"><img src=\"https://colab.research.google.com/assets/colab-badge.svg\" alt=\"Open In Colab\"/></a>"
      ]
    },
    {
      "cell_type": "markdown",
      "source": [
        "# Магический метод $__new__$\n",
        "\n",
        "Магический метод $__new__$ отвечает за создание нового экземпляра класса. Он вызывается перед методом $__init__$ и используется редко, в основном для контроля процесса создания объектов, особенно в паттернах проектирования. Основное отличие между $__new__$ и $__init__$ в том, что $__new__$ создает и возвращает новый экземпляр, в то время как $__init__$ инициализирует уже созданный экземпляр.\n",
        "\n",
        "\n",
        "\n",
        "**Преимущества:**\n",
        "- Гарантия наличия только одного экземпляра класса.\n",
        "- Контроль глобальной точки доступа к экземпляру.\n",
        "\n",
        "\n",
        "\n",
        "# Паттерн **Singleton**\n",
        "\n",
        "**Singleton (Одиночка)** - это порождающий паттерн проектирования, который гарантирует, что у класса есть только один экземпляр, и предоставляет к нему глобальную точку доступа.\n",
        "\n",
        "Пример реализации **Singleton**:\n",
        "\n"
      ],
      "metadata": {
        "id": "8e-vxKb9Ixnw"
      }
    },
    {
      "cell_type": "code",
      "source": [
        "class Singleton:\n",
        "    _instance = None\n",
        "\n",
        "    def __new__(cls, *args, **kwargs):\n",
        "        if cls._instance is None:\n",
        "            cls._instance = super().__new__(cls)\n",
        "        return cls._instance\n",
        "\n",
        "    def __init__(self, value=None):\n",
        "        if not hasattr(self, '_initialized'):\n",
        "            self.value = value\n",
        "            self._initialized = True\n",
        "\n",
        "# Проверка работы\n",
        "singleton1 = Singleton(10)\n",
        "singleton2 = Singleton(20)\n",
        "\n",
        "print(singleton1.value)  # Выведет: 10\n",
        "print(singleton2.value)  # Выведет: 10\n",
        "print(singleton1 is singleton2)  # Выведет: True\n"
      ],
      "metadata": {
        "colab": {
          "base_uri": "https://localhost:8080/"
        },
        "id": "1fXr3kgQOCj3",
        "outputId": "dbc9df07-fa05-4419-cd81-4004420ec677"
      },
      "execution_count": 1,
      "outputs": [
        {
          "output_type": "stream",
          "name": "stdout",
          "text": [
            "10\n",
            "10\n",
            "True\n"
          ]
        }
      ]
    },
    {
      "cell_type": "markdown",
      "source": [
        "**Объяснение работы**\n",
        "\n",
        "1. Метод $__new__$:\n",
        "  - Проверяет, существует ли уже экземпляр класса **(cls._instance)**.\n",
        "  - Если экземпляра еще нет, создает его с помощью **super().__new__(cls)** и сохраняет в **cls._instance**.\n",
        "  - Возвращает единственный экземпляр класса.\n",
        "\n",
        "2. Метод $__init__$:\n",
        "  - Инициализирует экземпляр только один раз. Проверка **if not hasattr(self, '_initialized')** гарантирует, что инициализация выполняется только при первом создании экземпляра."
      ],
      "metadata": {
        "id": "0ZJfjoCCOPPN"
      }
    }
  ]
}