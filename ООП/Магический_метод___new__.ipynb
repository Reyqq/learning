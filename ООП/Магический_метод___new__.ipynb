{
  "nbformat": 4,
  "nbformat_minor": 0,
  "metadata": {
    "colab": {
      "provenance": [],
      "authorship_tag": "ABX9TyNiXXN7YUuQ9ZJhSxnE3+zp",
      "include_colab_link": true
    },
    "kernelspec": {
      "name": "python3",
      "display_name": "Python 3"
    },
    "language_info": {
      "name": "python"
    }
  },
  "cells": [
    {
      "cell_type": "markdown",
      "metadata": {
        "id": "view-in-github",
        "colab_type": "text"
      },
      "source": [
        "<a href=\"https://colab.research.google.com/github/Reyqq/learning/blob/main/%D0%9E%D0%9E%D0%9F/%D0%9C%D0%B0%D0%B3%D0%B8%D1%87%D0%B5%D1%81%D0%BA%D0%B8%D0%B9_%D0%BC%D0%B5%D1%82%D0%BE%D0%B4___new__.ipynb\" target=\"_parent\"><img src=\"https://colab.research.google.com/assets/colab-badge.svg\" alt=\"Open In Colab\"/></a>"
      ]
    },
    {
      "cell_type": "markdown",
      "source": [
        "# Магический метод $__new__$\n",
        "\n",
        "Магический метод $__new__$ отвечает за создание нового экземпляра класса. Он вызывается перед методом $__init__$ и используется редко, в основном для контроля процесса создания объектов, особенно в паттернах проектирования. Основное отличие между $__new__$ и $__init__$ в том, что $__new__$ создает и возвращает новый экземпляр, в то время как $__init__$ инициализирует уже созданный экземпляр."
      ],
      "metadata": {
        "id": "8e-vxKb9Ixnw"
      }
    }
  ]
}