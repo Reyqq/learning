{
  "nbformat": 4,
  "nbformat_minor": 0,
  "metadata": {
    "colab": {
      "provenance": [],
      "authorship_tag": "ABX9TyNlu/Riz0OerERcI1yX4IQh",
      "include_colab_link": true
    },
    "kernelspec": {
      "name": "python3",
      "display_name": "Python 3"
    },
    "language_info": {
      "name": "python"
    }
  },
  "cells": [
    {
      "cell_type": "markdown",
      "metadata": {
        "id": "view-in-github",
        "colab_type": "text"
      },
      "source": [
        "<a href=\"https://colab.research.google.com/github/Reyqq/learning/blob/main/%D0%9E%D0%9E%D0%9F/%D0%A0%D0%B5%D0%B6%D0%B8%D0%BC%D1%8B_%D0%B4%D0%BE%D1%81%D1%82%D1%83%D0%BF%D0%B0_public%2C_private%2C_protected_%D0%A1%D0%B5%D1%82%D1%82%D0%B5%D1%80%D1%8B_%D0%B8_%D0%B3%D0%B5%D1%82%D1%82%D0%B5%D1%80%D1%8B.ipynb\" target=\"_parent\"><img src=\"https://colab.research.google.com/assets/colab-badge.svg\" alt=\"Open In Colab\"/></a>"
      ]
    },
    {
      "cell_type": "markdown",
      "source": [
        "**Режимы доступа: public, private, protected**\n",
        "\n",
        "В Python управление доступом к атрибутам и методам классов осуществляется с помощью соглашений об именах, так как строгой инкапсуляции, как в некоторых других языках (например, C++ или Java), нет. Рассмотрим три уровня доступа:\n",
        "\n",
        "1. Public (публичный)\n",
        "\n",
        "Публичные атрибуты и методы доступны из любого места: внутри класса, вне класса и в подклассах. Публичные атрибуты и методы не имеют специальных префиксов.\n"
      ],
      "metadata": {
        "id": "s75YLT9KPh8f"
      }
    },
    {
      "cell_type": "code",
      "source": [
        "class MyClass:\n",
        "    def __init__(self, value):\n",
        "        self.public_value = value\n",
        "\n",
        "    def public_method(self):\n",
        "        return self.public_value\n",
        "\n",
        "# Проверка работы\n",
        "obj = MyClass(10)\n",
        "print(obj.public_value)  # Выведет: 10\n",
        "print(obj.public_method())  # Выведет: 10\n"
      ],
      "metadata": {
        "colab": {
          "base_uri": "https://localhost:8080/"
        },
        "id": "efvBgLL-Pz-X",
        "outputId": "b2863138-1727-4fff-f3de-67b31881efac"
      },
      "execution_count": 1,
      "outputs": [
        {
          "output_type": "stream",
          "name": "stdout",
          "text": [
            "10\n",
            "10\n"
          ]
        }
      ]
    },
    {
      "cell_type": "markdown",
      "source": [
        "2. **Protected (защищенный)**\n",
        "\n",
        "Защищенные атрибуты и методы доступны внутри класса и в подклассах, но не предполагается их использование вне класса. Они обозначаются одним подчеркиванием  **_**  перед именем."
      ],
      "metadata": {
        "id": "EFO75VfaP9Yw"
      }
    },
    {
      "cell_type": "code",
      "source": [
        "class MyClass:\n",
        "    def __init__(self, value):\n",
        "        self._protected_value = value\n",
        "\n",
        "    def _protected_method(self):\n",
        "        return self._protected_value\n",
        "\n",
        "# Проверка работы\n",
        "obj = MyClass(20)\n",
        "print(obj._protected_value)  # Предполагается, что не следует так делать\n",
        "print(obj._protected_method())  # Предполагается, что не следует так делать\n"
      ],
      "metadata": {
        "colab": {
          "base_uri": "https://localhost:8080/"
        },
        "id": "Ij1CTbVdQGI-",
        "outputId": "193d1d73-118c-4497-9ad4-1e56c2cc3096"
      },
      "execution_count": 2,
      "outputs": [
        {
          "output_type": "stream",
          "name": "stdout",
          "text": [
            "20\n",
            "20\n"
          ]
        }
      ]
    },
    {
      "cell_type": "markdown",
      "source": [
        "3. **Private (приватный)**\n",
        "\n",
        "Приватные атрибуты и методы доступны только внутри класса. Они обозначаются двумя подчеркиваниями __ перед именем. Python использует манглинг имен для предотвращения прямого доступа к этим атрибутам извне."
      ],
      "metadata": {
        "id": "Sfw8y_zvQM5a"
      }
    },
    {
      "cell_type": "code",
      "source": [
        "class MyClass:\n",
        "    def __init__(self, value):\n",
        "        self.__private_value = value\n",
        "\n",
        "    def __private_method(self):\n",
        "        return self.__private_value\n",
        "\n",
        "    def get_private_value(self):\n",
        "        return self.__private_method()\n",
        "\n",
        "# Проверка работы\n",
        "obj = MyClass(30)\n",
        "# print(obj.__private_value)  # Будет ошибка\n",
        "# print(obj.__private_method())  # Будет ошибка\n",
        "print(obj.get_private_value())  # Выведет: 30\n"
      ],
      "metadata": {
        "colab": {
          "base_uri": "https://localhost:8080/"
        },
        "id": "piVdb53EQSx-",
        "outputId": "c91e61ce-1688-438d-a1b1-340286fed847"
      },
      "execution_count": 3,
      "outputs": [
        {
          "output_type": "stream",
          "name": "stdout",
          "text": [
            "30\n"
          ]
        }
      ]
    },
    {
      "cell_type": "markdown",
      "source": [
        "**Доступ к приватным атрибутам.**\n",
        "\n",
        "Хотя Python препятствует доступу к приватным атрибутам, его можно обойти через манглинг имен:"
      ],
      "metadata": {
        "id": "0-jz59QPQWxM"
      }
    },
    {
      "cell_type": "code",
      "source": [
        "print(obj._MyClass__private_value)  # Выведет: 30\n"
      ],
      "metadata": {
        "colab": {
          "base_uri": "https://localhost:8080/"
        },
        "id": "6ZQQZXBXQa6W",
        "outputId": "0920e097-6be4-48d5-aafc-418105e9ef74"
      },
      "execution_count": 4,
      "outputs": [
        {
          "output_type": "stream",
          "name": "stdout",
          "text": [
            "30\n"
          ]
        }
      ]
    },
    {
      "cell_type": "markdown",
      "source": [
        "**Сеттеры и геттеры**\n",
        "\n",
        "Сеттеры и геттеры используются для контроля доступа к атрибутам класса. В Python для этого часто используются свойства **(properties).**\n",
        "\n",
        "Использование **property**.\n",
        "\n",
        "**property** позволяет определить методы для получения (getter), установки (setter) и удаления (deleter) значений атрибутов."
      ],
      "metadata": {
        "id": "-UrpzD2aQdDK"
      }
    },
    {
      "cell_type": "code",
      "source": [
        "class MyClass:\n",
        "    def __init__(self, value):\n",
        "        self._value = value\n",
        "\n",
        "    @property\n",
        "    def value(self):\n",
        "        return self._value\n",
        "\n",
        "    @value.setter\n",
        "    def value(self, new_value):\n",
        "        if new_value >= 0:\n",
        "            self._value = new_value\n",
        "        else:\n",
        "            raise ValueError(\"Значение должно быть неотрицательным\")\n",
        "\n",
        "    @value.deleter\n",
        "    def value(self):\n",
        "        del self._value\n",
        "\n",
        "# Проверка работы\n",
        "obj = MyClass(40)\n",
        "print(obj.value)  # Выведет: 40\n",
        "\n",
        "obj.value = 50\n",
        "print(obj.value)  # Выведет: 50\n",
        "\n",
        "# obj.value = -10  # Выдаст ValueError: Значение должно быть неотрицательным\n",
        "\n",
        "del obj.value\n",
        "# print(obj.value)  # Будет ошибка, так как атрибут удален\n"
      ],
      "metadata": {
        "colab": {
          "base_uri": "https://localhost:8080/"
        },
        "id": "owPa9b-gQpXz",
        "outputId": "28f1f558-2797-446b-985d-918444618f50"
      },
      "execution_count": 5,
      "outputs": [
        {
          "output_type": "stream",
          "name": "stdout",
          "text": [
            "40\n",
            "50\n"
          ]
        }
      ]
    },
    {
      "cell_type": "markdown",
      "source": [
        "# Альтернативный способ создания свойств\n",
        "\n",
        "Свойства также можно создавать с помощью встроенной функции **property:**\n",
        "\n"
      ],
      "metadata": {
        "id": "8sP7EfBxQtEk"
      }
    },
    {
      "cell_type": "code",
      "source": [
        "class MyClass:\n",
        "    def __init__(self, value):\n",
        "        self._value = value\n",
        "\n",
        "    def get_value(self):\n",
        "        return self._value\n",
        "\n",
        "    def set_value(self, new_value):\n",
        "        if new_value >= 0:\n",
        "            self._value = new_value\n",
        "        else:\n",
        "            raise ValueError(\"Значение должно быть неотрицательным\")\n",
        "\n",
        "    def del_value(self):\n",
        "        del self._value\n",
        "\n",
        "    value = property(get_value, set_value, del_value)\n",
        "\n",
        "# Проверка работы\n",
        "obj = MyClass(60)\n",
        "print(obj.value)  # Выведет: 60\n",
        "\n",
        "obj.value = 70\n",
        "print(obj.value)  # Выведет: 70\n",
        "\n",
        "# obj.value = -20  # Выдаст ValueError: Значение должно быть неотрицательным\n",
        "\n",
        "del obj.value\n",
        "# print(obj.value)  # Будет ошибка, так как атрибут удален\n"
      ],
      "metadata": {
        "colab": {
          "base_uri": "https://localhost:8080/"
        },
        "id": "b00impRLQzOa",
        "outputId": "081b7e89-6c2c-43a1-df2e-d1de14bf126c"
      },
      "execution_count": 6,
      "outputs": [
        {
          "output_type": "stream",
          "name": "stdout",
          "text": [
            "60\n",
            "70\n"
          ]
        }
      ]
    },
    {
      "cell_type": "markdown",
      "source": [
        "# Заключение\n",
        "\n",
        "В Python уровни доступа **(public, protected, private)** контролируются соглашениями об именах, а не строгими правилами, как в других языках. Публичные атрибуты доступны везде, защищенные предполагаются для использования только внутри класса и подклассов, а приватные предназначены для внутреннего использования внутри класса.\n",
        "\n",
        "Сеттеры и геттеры реализуются с помощью свойств (property), что позволяет контролировать доступ к атрибутам и обеспечивает возможность добавления логики при их получении, установке или удалении. Это помогает поддерживать инкапсуляцию и управлять доступом к важным данным класса."
      ],
      "metadata": {
        "id": "pMv1nRbrQ3Ir"
      }
    }
  ]
}