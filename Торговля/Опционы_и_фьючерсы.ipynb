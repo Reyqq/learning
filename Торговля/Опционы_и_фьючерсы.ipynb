{
  "nbformat": 4,
  "nbformat_minor": 0,
  "metadata": {
    "colab": {
      "provenance": [],
      "authorship_tag": "ABX9TyOF3Huh/ErJ7hbsuq+bTfS0",
      "include_colab_link": true
    },
    "kernelspec": {
      "name": "python3",
      "display_name": "Python 3"
    },
    "language_info": {
      "name": "python"
    }
  },
  "cells": [
    {
      "cell_type": "markdown",
      "metadata": {
        "id": "view-in-github",
        "colab_type": "text"
      },
      "source": [
        "<a href=\"https://colab.research.google.com/github/Reyqq/learning/blob/main/%D0%A2%D0%BE%D1%80%D0%B3%D0%BE%D0%B2%D0%BB%D1%8F/%D0%9E%D0%BF%D1%86%D0%B8%D0%BE%D0%BD%D1%8B_%D0%B8_%D1%84%D1%8C%D1%8E%D1%87%D0%B5%D1%80%D1%81%D1%8B.ipynb\" target=\"_parent\"><img src=\"https://colab.research.google.com/assets/colab-badge.svg\" alt=\"Open In Colab\"/></a>"
      ]
    },
    {
      "cell_type": "markdown",
      "source": [
        "# Опционы и фьючерсы: Основные понятия, применение, плюсы и минусы\n",
        "\n",
        "\n",
        "**Основные моменты**\n",
        "\n",
        " **Суть опционов и фьючерсов.**\n",
        "\n",
        "  - **Опционы** — это финансовые контракты, которые дают право (но не обязательство) купить или продать определенный актив по заранее определенной цене до или на определенную дату.\n",
        "\n",
        "  - **Фьючерсы** — это финансовые контракты, которые обязывают покупателя приобрести, а продавца продать определенный актив по заранее определенной цене на определенную дату в будущем.\n",
        "\n",
        "\n",
        "**Разбор опционов**\n",
        "  1. **Виды опционов:**\n",
        "     - **Колл-опционы(call options):** Дают право купить базовый актив по определенной цене.\n",
        "\n",
        "     - **Пут-опционы(put options):** Дают право продать базовый актив по определенной цене.\n",
        "\n",
        "  2. **Основные параметры опционов:**\n",
        "     - **Цена исполнения(страйк цена):** Цена, по которой можно купить или продать базовый актив.\n",
        "\n",
        "     - **Дата истечения(экспирация):** Дата, до которой можно исполнить опцион.\n",
        "\n",
        "     - **Премия:** Стоимость опциона, которую платит покупатель продавцу.\n",
        "\n",
        "**Пример:**\n"
      ],
      "metadata": {
        "id": "OggdsVL1MO5p"
      }
    },
    {
      "cell_type": "code",
      "source": [
        "# Пример колл-опциона\n",
        "class CallOption:\n",
        "  def __init__(self, strike_price, expiration_date, premium):\n",
        "      self.strike_price = strike_price\n",
        "      self.expiration_date = expiration_date\n",
        "      self.premium = premium\n",
        "\n",
        "  def calculate_profit(self, market_price):\n",
        "    if market_price > self.strike_price:\n",
        "       return market_price - self.strike_price - self.premium\n",
        "    else:\n",
        "      return -self.premium\n",
        "\n",
        "call_option = CallOption(100, \"2024-12-31\", 5)\n",
        "print(call_option.calculate_profit(110))  # Output: 5"
      ],
      "metadata": {
        "colab": {
          "base_uri": "https://localhost:8080/"
        },
        "id": "2sRh0LuXS83B",
        "outputId": "0430e5c8-2d2b-4566-b38c-70015d3d0c18"
      },
      "execution_count": 1,
      "outputs": [
        {
          "output_type": "stream",
          "name": "stdout",
          "text": [
            "5\n"
          ]
        }
      ]
    },
    {
      "cell_type": "markdown",
      "source": [
        "# Применение опционов\n",
        "\n",
        "1. **Хеджирование:** Защита инвестиционного портфеля от неблагоприятных движений цен.\n",
        "\n",
        "2. **Спекуляции:** Заработок на колебаниях цен базового актива.\n",
        "\n",
        "3. **Доход от премий:** Продажа опционов для получения премий."
      ],
      "metadata": {
        "id": "RgbikceEWiu_"
      }
    },
    {
      "cell_type": "markdown",
      "source": [
        "**Плюсы и минусы опционов:**\n",
        "\n",
        "\n",
        "**Плюсы:**\n",
        "\n",
        " - Ограничение убытков для покупателей(максимальные потери — премия).\n",
        " - Неограниченный потенциал прибыли для покупателей колл-опционов.\n",
        " - Гибкость в стратегиях(хеджирование, спекуляции, доход от премий).\n",
        "\n",
        "\n",
        "**Минусы:**\n",
        " - Временной распад стоимости опционов.\n",
        " - Высокий риск потерь для продавцов опционов.\n",
        " - Сложность в понимании и управлении опционными позициями.\n"
      ],
      "metadata": {
        "id": "o3VDfSGVW5Ta"
      }
    },
    {
      "cell_type": "markdown",
      "source": [
        "# Разбор фьючерсов\n",
        "\n",
        "**Основные параметры фьючерсов**\n",
        "\n",
        " - **Базовый актив:** Акции, товары, валюты, индексы и др.\n",
        "\n",
        " - **Цена фьючерсного контракта:** Цена, по которой будут выполнены обязательства в будущем.\n",
        "\n",
        " - **Дата истечения:** Дата, на которую осуществляется поставка или расчет по контракту.\n",
        "\n",
        " - **Маржа:** Денежные средства, которые должны быть размещены для покрытия обязательств по контракту.\n",
        "\n",
        " **Пример:**"
      ],
      "metadata": {
        "id": "aP7tLgY2YyjR"
      }
    },
    {
      "cell_type": "code",
      "source": [
        "# Пример фьючерсного контракта\n",
        "class FuturesContract:\n",
        "    def __init__(self, asset, price, expiration_date):\n",
        "        self.asset = asset\n",
        "        self.price = price\n",
        "        self.expiration_date = expiration_date\n",
        "\n",
        "    def calculate_profit(self, market_price):\n",
        "        return market_price - self.price\n",
        "\n",
        "futures = FuturesContract(\"Oil\", 70, \"2024-12-31\")\n",
        "print(futures.calculate_profit(75))  # Output: 5"
      ],
      "metadata": {
        "id": "MmpKe2IYaKb2"
      },
      "execution_count": null,
      "outputs": []
    },
    {
      "cell_type": "markdown",
      "source": [
        "**Плюсы и минусы фьючерсов**\n",
        "\n",
        "**Плюсы:**\n",
        "  - Возможность хеджирования рисков.\n",
        "  - Высокая ликвидность на большинстве рынков.\n",
        "  - **Леверидж:** управление большими позициями с меньшими вложениями.\n",
        "\n",
        "**Минусы:**\n",
        "  - Высокий риск потерь из-за левериджа.\n",
        "  - Обязательства по выполнению контрактов.\n",
        "  - Зависимость от маржинальных требований."
      ],
      "metadata": {
        "id": "-ityMMawaQ4J"
      }
    }
  ]
}